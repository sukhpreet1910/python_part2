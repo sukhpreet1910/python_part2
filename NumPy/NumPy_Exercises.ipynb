{
 "cells": [
  {
   "cell_type": "markdown",
   "metadata": {
    "id": "KdERlTpFuL5V"
   },
   "source": [
    "# Exercises"
   ]
  },
  {
   "cell_type": "markdown",
   "metadata": {
    "id": "to-gsrQyuL5Z"
   },
   "source": [
    "### #1 - Calculate the BMI (body mass index) on the two lists below using NDArrays..."
   ]
  },
  {
   "cell_type": "code",
   "execution_count": 15,
   "metadata": {
    "id": "iZlf9DzeuL5a"
   },
   "outputs": [
    {
     "name": "stdout",
     "output_type": "stream",
     "text": [
      "[16.24238605 17.21632653 18.12933942 18.98533951 19.78795271 20.54054054\n",
      " 21.24622222]\n"
     ]
    }
   ],
   "source": [
    "#1---Calculate-the-BMI-(body-mass-index)-on-the-two-lists-below-using-NDArrays...\n",
    "import numpy as np\n",
    "# formula = weight / (height**2) * 703\n",
    "height = [69, 70, 71, 72, 73, 74, 75]\n",
    "weight = [110, 120, 130, 140, 150, 160, 170]\n",
    "height_arr = np.array(height)\n",
    "weight_arr = np.array(weight)\n",
    "\n",
    "\n",
    "BMI = (weight_arr / height_arr**2) * 703\n",
    "\n",
    "print(BMI)\n"
   ]
  },
  {
   "cell_type": "markdown",
   "metadata": {
    "id": "RSsT8w8ouL5b"
   },
   "source": [
    "### #2 - Create a function that will take in two parameters and will create a random matrix based off of those parameters. Extra: Have additional parameters taken in that allow the user to choose the shape and data type of the matrix."
   ]
  },
  {
   "cell_type": "code",
   "execution_count": 34,
   "metadata": {
    "id": "ygFvj0aeuL5b"
   },
   "outputs": [
    {
     "name": "stdout",
     "output_type": "stream",
     "text": [
      "Enter typeint\n",
      "[[15 19  8 10  3]\n",
      " [18  5 15 14 13]\n",
      " [13 17 15  2  3]\n",
      " [ 3  1  1  7 10]]\n"
     ]
    }
   ],
   "source": [
    "def random_matrix(lower_bound, upper_bound, shape, dtype):\n",
    "    rand_arr = np.random.uniform(lower_bound, upper_bound, shape)\n",
    "#     rand_arr_int = np.random.randint(lower_bound, upper_bound, shape) # generates int\n",
    "    return rand_arr.astype(dtype)\n",
    "\n",
    "shape = (4, 5)\n",
    "dtype = input(\"Enter type\").strip()\n",
    "\n",
    "try:\n",
    "    result = random_matrix(1, 20, shape, dtype)\n",
    "    print(result)\n",
    "except ValueError as e:\n",
    "    print(f'Value error {e}')"
   ]
  },
  {
   "cell_type": "markdown",
   "metadata": {
    "id": "e5mP1UX9uL5c"
   },
   "source": [
    "### #3 - Extra: Open and load the data in the two text files that have the Boston Red Sox hitting data for the past seasons. Compare the difference in the two years by putting the data into an NDArray and running a differencial operation on it. The column to look for will be SLG.\n",
    "\n",
    "Your output should display which year (either 2017 or 2018) was a better year based on SLG"
   ]
  },
  {
   "cell_type": "code",
   "execution_count": 35,
   "metadata": {
    "id": "iAExC-SjuL5c"
   },
   "outputs": [],
   "source": [
    "import csv\n",
    "import numpy as np\n",
    "\n",
    "\n"
   ]
  },
  {
   "cell_type": "code",
   "execution_count": 58,
   "metadata": {
    "id": "P8Rwr8lmuL5e"
   },
   "outputs": [
    {
     "name": "stdout",
     "output_type": "stream",
     "text": [
      "Difference: \n",
      "\"[-0.125      -0.00999999 -0.00399998  0.11900002 -0.04899999  0.04100001\n",
      "  0.00099999  0.181       0.20000002  0.05700001 -0.104      -0.005\n",
      " -0.14399996  0.26400003  0.04899999  0.06099999  0.04699999 -0.07799998\n",
      " -0.23700002 -0.139     ]\"\n",
      "\n",
      "\"2018\" was a better year. \n"
     ]
    }
   ],
   "source": [
    "FIELDS = ['Rk', 'Pos', 'Name', 'Age', 'G', 'PA', 'AB', 'R', 'H', '2B', '3B', 'HR', 'RBI', 'SB', 'CS', \n",
    "          'BB', 'SO', 'BA', 'OBP', 'SLG', 'OPS', 'OPS+', 'TB', 'GDP', 'HBP', 'SH', 'SF', 'IBB']\n",
    "\n",
    "DATATYPES = [('rk', 'i'), ('pos', '|S25'), ('name', '|S25'), ('age', 'i'), ('g', 'i'), ('pa', 'i'), ('ab', 'i'),\n",
    "                ('r', 'i'), ('h', 'i'), ('2b', 'i'), ('3b', 'i'), ('hr', 'i'), ('rbi', 'i'), ('sb', 'i'), ('cs', 'i'),\n",
    "                ('bb', 'i'), ('so', 'i'), ('ba', 'f'), ('obp', 'f'), ('slg', 'f'), ('ops', 'f'), ('opsp', 'i'),\n",
    "                ('tb', 'i'), ('gdp', 'i'), ('hbp', 'i'), ('sh', 'i'), ('sf', 'i'), ('ibb', 'i')]\n",
    "\n",
    "#Use this function to actually open the data inside of a NDArray\n",
    "\n",
    "def load_data(filename, d = ','):\n",
    "    data = np.genfromtxt(filename, \n",
    "                        delimiter = d,\n",
    "                        skip_header=1,\n",
    "                        invalid_raise=False,\n",
    "                        usecols = np.arange(0, 28),\n",
    "                        names = FIELDS,\n",
    "                        dtype = DATATYPES)\n",
    "    return data\n",
    "\n",
    "\n",
    "def diff(file1, file2):\n",
    "    result_2017 = load_data(filename_2017)\n",
    "    result_2018 = load_data(filename_2018)\n",
    "    \n",
    "    slg_2017 = result_2017['SLG']\n",
    "    slg_2018 = result_2018['SLG']\n",
    "    \n",
    "    \n",
    "    slg_2017_copy = slg_2017[:-3] # 2017 has 23 values and 2018 20 values, \n",
    "                                  #so i popped 3 values from 2017 to perform operations. \n",
    "                                  #bcz its not possible to perform operations on arrays having different length\n",
    "    \n",
    "    \n",
    "    diff = slg_2018 - slg_2017_copy\n",
    "    print(f'Difference: \\n\"{diff}\"')\n",
    "    \n",
    "    result = '2018' if np.sum(diff) > 0 else '2017'\n",
    "\n",
    "    print(f'\\n\"{result}\" was a better year. ')\n",
    "\n",
    "filename_2017 = 'files/redsox_2017_hitting.txt'\n",
    "filename_2018 = 'files/redsox_2018_hitting.txt'\n",
    "    \n",
    "diff(filename_2017, filename_2018)\n"
   ]
  },
  {
   "cell_type": "code",
   "execution_count": null,
   "metadata": {},
   "outputs": [],
   "source": []
  }
 ],
 "metadata": {
  "colab": {
   "name": "Copy of Data_Science_Day_1_Exercises-Day1- Homework.ipynb",
   "provenance": []
  },
  "kernelspec": {
   "display_name": "Python 3 (ipykernel)",
   "language": "python",
   "name": "python3"
  },
  "language_info": {
   "codemirror_mode": {
    "name": "ipython",
    "version": 3
   },
   "file_extension": ".py",
   "mimetype": "text/x-python",
   "name": "python",
   "nbconvert_exporter": "python",
   "pygments_lexer": "ipython3",
   "version": "3.11.5"
  }
 },
 "nbformat": 4,
 "nbformat_minor": 1
}
