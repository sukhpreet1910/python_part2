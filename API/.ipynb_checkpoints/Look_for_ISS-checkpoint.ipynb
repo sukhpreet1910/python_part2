{
 "cells": [
  {
   "cell_type": "code",
   "execution_count": 115,
   "id": "38cc7088",
   "metadata": {},
   "outputs": [],
   "source": [
    "#Imports\n",
    "import requests, json, pytz\n",
    "from datetime import datetime\n",
    "import smtplib\n",
    "import time "
   ]
  },
  {
   "cell_type": "code",
   "execution_count": 113,
   "id": "a9e83d5a",
   "metadata": {},
   "outputs": [],
   "source": [
    "# Constants\n",
    "MY_LAT = 33.493401\n",
    "MY_LONG = -117.148788\n",
    "MY_EMAIL = 'sukhaamad1007@gmail.com'\n",
    "MY_PASSWORD = 'Sukh@1007'"
   ]
  },
  {
   "cell_type": "code",
   "execution_count": 107,
   "id": "4ec82254",
   "metadata": {},
   "outputs": [],
   "source": [
    "def sunrise_sunset():\n",
    "    parameters = {\n",
    "        'lat': MY_LAT,\n",
    "        'lng': MY_LONG,\n",
    "        'formatted': 0,\n",
    "        'date': '2024-02-11'\n",
    "#         'tzd': 'Asia/Kolkata'\n",
    "    }\n",
    "    \n",
    "    url = 'https://api.sunrise-sunset.org/json'\n",
    "    response = requests.get('https://api.sunrise-sunset.org/json',params = parameters)\n",
    "    response.raise_for_status()\n",
    "    data = response.json()\n",
    "    return data\n",
    "data = sunrise_sunset()"
   ]
  },
  {
   "cell_type": "code",
   "execution_count": 108,
   "id": "6f9cf9e5",
   "metadata": {},
   "outputs": [],
   "source": [
    "def is_night():\n",
    "    sunrise_time = datetime.strptime(data['results']['sunrise'], '%Y-%m-%dT%H:%M:%S%z')\n",
    "    sunset_time = datetime.strptime(data['results']['sunset'], '%Y-%m-%dT%H:%M:%S%z')\n",
    "\n",
    "    # Converting to a specific timezone (e.g., 'Asia/Kolkata')\n",
    "    desired_timezone = 'America/Los_Angeles'\n",
    "    sunrise_time = sunrise_time.astimezone(pytz.timezone(desired_timezone))\n",
    "    sunset_time = sunset_time.astimezone(pytz.timezone(desired_timezone))\n",
    "\n",
    "    # Extracting hour part\n",
    "    sunrise_hour = sunrise_time.hour\n",
    "    sunset_hour = sunset_time.hour\n",
    "\n",
    "    # Extracting current hour \n",
    "    time_now = datetime.now()\n",
    "\n",
    "\n",
    "    if time_now <= sunrise_hour or time_now >= sunset_hour:\n",
    "        return True\n",
    "    else:\n",
    "        return False"
   ]
  },
  {
   "cell_type": "code",
   "execution_count": 112,
   "id": "c000a859",
   "metadata": {},
   "outputs": [],
   "source": [
    "# Fetching ISS Location\n",
    "def is_iss_overhead():\n",
    "    url = 'http://api.open-notify.org/iss-now.json'\n",
    "    response = requests.get(url)\n",
    "    response.raise_for_status()\n",
    "\n",
    "    data = response.json()\n",
    "\n",
    "    iss_latitude = float(data[\"iss_position\"][\"latitude\"])\n",
    "    iss_longitude = float(data[\"iss_position\"][\"longitude\"])\n",
    "\n",
    "    if MY_LAT - 5 <= iss_latitude <= MY_LAT + 5 and (MY_LONG - 5) <= iss_longitude <= (MY_LONG + 5):\n",
    "        return True\n",
    "    else:\n",
    "        return False"
   ]
  },
  {
   "cell_type": "code",
   "execution_count": 118,
   "id": "f5e43c0f",
   "metadata": {},
   "outputs": [],
   "source": [
    "while True:\n",
    "    time.sleep(60)\n",
    "    if is_iss_overhead() and is_night():\n",
    "        connection = smtplib.SMTP('smtp.gmail.com')\n",
    "        connection.starttls()\n",
    "        connection.login(MY_EMAIL, MY_PASSWORD)\n",
    "        connection.sendmail(\n",
    "            from_addr = MY_EMAIL,\n",
    "            to_addrs = MY_EMAIL,\n",
    "            msg = 'Subject: Look Up👆\\n\\nThe Iss is above you in the sky.'\n",
    "        )"
   ]
  },
  {
   "cell_type": "code",
   "execution_count": null,
   "id": "f5f61edb",
   "metadata": {},
   "outputs": [],
   "source": []
  }
 ],
 "metadata": {
  "kernelspec": {
   "display_name": "Python 3 (ipykernel)",
   "language": "python",
   "name": "python3"
  },
  "language_info": {
   "codemirror_mode": {
    "name": "ipython",
    "version": 3
   },
   "file_extension": ".py",
   "mimetype": "text/x-python",
   "name": "python",
   "nbconvert_exporter": "python",
   "pygments_lexer": "ipython3",
   "version": "3.11.5"
  }
 },
 "nbformat": 4,
 "nbformat_minor": 5
}
